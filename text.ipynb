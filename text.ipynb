{
 "cells": [
  {
   "cell_type": "markdown",
   "metadata": {},
   "source": [
    "Завдання 0. Створіть порожній файл з назвою ```text0.txt```. Заповніть його текстом наступного змісту:\n",
    "\n",
    "```Тарас Шевченко - найкрутіший український письменник!```\n",
    "\n",
    "Переконайтеся, що файл був створений. Відкрийте його. Перегляньте доданий текст."
   ]
  },
  {
   "cell_type": "code",
   "execution_count": 1,
   "metadata": {},
   "outputs": [
    {
     "name": "stdout",
     "output_type": "stream",
     "text": [
      "Вміст файлу:\n",
      "Tарас Шевченко - найкрутіший український письменник!\n",
      "\n"
     ]
    }
   ],
   "source": [
    "file_path = 'text0.txt'\n",
    "\n",
    "try:\n",
    "    with open(file_path, 'r', encoding='utf-8') as file:\n",
    "        file_content = file.read()\n",
    "        print(\"Вміст файлу:\")\n",
    "        print(file_content)\n",
    "except FileNotFoundError:\n",
    "    print(\"error\")\n",
    "except Exception as e:\n",
    "    print(\"error\", e)\n"
   ]
  },
  {
   "cell_type": "markdown",
   "metadata": {},
   "source": [
    "Завдання 1: Виведіть повідомлення, що міститься у файлі з назвою ```text1.txt```"
   ]
  },
  {
   "cell_type": "code",
   "execution_count": 2,
   "metadata": {},
   "outputs": [
    {
     "name": "stdout",
     "output_type": "stream",
     "text": [
      "Повідомлення з файлу text1.txt:\n",
      "Привіт! Я учень 8 класу.\n",
      "У мене дуже погані оцінки.\n",
      "Але я постійно працюю над собою\n",
      "і незабаром буду вчитися краще!\n",
      "\n"
     ]
    }
   ],
   "source": [
    "file_path = 'text1.txt'\n",
    "\n",
    "try:\n",
    "    with open(file_path, 'r', encoding='utf-8') as file:\n",
    "        file_content = file.read()\n",
    "        print(\"Повідомлення з файлу {}:\".format(file_path))\n",
    "        print(file_content)\n",
    "except FileNotFoundError:\n",
    "    print(\"error{}\".format(file_path))\n",
    "except Exception as e:\n",
    "    print(\"error\", e)\n"
   ]
  },
  {
   "cell_type": "markdown",
   "metadata": {},
   "source": [
    "Завдання 2. До файлу ```text1.txt``` додайте наступні рядки:\n",
    "\n",
    "```Але я постійно працюю над собою```\n",
    "\n",
    "```і незабаром буду вчитися краще!```\n",
    "\n",
    "Переглянье зміст файлу ```text1.txt```. Переконайтеся, що відповідні рядки були додані"
   ]
  },
  {
   "cell_type": "code",
   "execution_count": null,
   "metadata": {},
   "outputs": [],
   "source": [
    "file_path = 'text1.txt'\n",
    "\n",
    "new_lines = [\n",
    "    \"Але я постійно працюю над собою\\n\",\n",
    "    \"і незабаром буду вчитися краще!\\n\"\n",
    "]\n",
    "\n",
    "try:\n",
    "    with open(file_path, 'a', encoding='utf-8') as file:\n",
    "        file.writelines(new_lines)\n",
    "\n",
    "    with open(file_path, 'r', encoding='utf-8') as file:\n",
    "        file_content = file.read()\n",
    "        print(\"Зміст файлу {} після додавання нових рядків:\".format(file_path))\n",
    "        print(file_content)\n",
    "\n",
    "except FileNotFoundError:\n",
    "    print(\"error{}\".format(file_path))\n",
    "except Exception as e:\n",
    "    print(\"error\", e)\n"
   ]
  },
  {
   "cell_type": "code",
   "execution_count": null,
   "metadata": {},
   "outputs": [],
   "source": []
  },
  {
   "cell_type": "markdown",
   "metadata": {},
   "source": [
    "Завдання 2. З'ясуйте, чи є серед характеристик робіт учня, які містяться у файлі  ```text2.txt```, значення \"відмінно\""
   ]
  },
  {
   "cell_type": "code",
   "execution_count": 3,
   "metadata": {},
   "outputs": [
    {
     "name": "stdout",
     "output_type": "stream",
     "text": [
      "Серед характеристик робіт учня у файлі text2.txt є значення 'відмінно'\n"
     ]
    }
   ],
   "source": [
    "file_path = 'text2.txt'\n",
    "target_word = \"відмінно\"\n",
    "\n",
    "try:\n",
    "    with open(file_path, 'r', encoding='utf-8') as file:\n",
    "        file_content = file.read()\n",
    "        if target_word in file_content:\n",
    "            print(\"Серед характеристик робіт учня у файлі {} є значення '{}'\".format(file_path, target_word))\n",
    "        else:\n",
    "            print(\"У файлі {} відсутні значення '{}' серед характеристик робіт учня.\".format(file_path, target_word))\n",
    "except FileNotFoundError:\n",
    "    print(\"error{}\".format(file_path))\n",
    "except Exception as e:\n",
    "    print(\"error\", e)\n"
   ]
  }
 ],
 "metadata": {
  "kernelspec": {
   "display_name": "functions8",
   "language": "python",
   "name": "python3"
  },
  "language_info": {
   "codemirror_mode": {
    "name": "ipython",
    "version": 3
   },
   "file_extension": ".py",
   "mimetype": "text/x-python",
   "name": "python",
   "nbconvert_exporter": "python",
   "pygments_lexer": "ipython3",
   "version": "3.12.1"
  },
  "orig_nbformat": 4
 },
 "nbformat": 4,
 "nbformat_minor": 2
}
