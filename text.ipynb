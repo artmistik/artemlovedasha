{
 "cells": [
  {
   "cell_type": "markdown",
   "metadata": {},
   "source": [
    "Завдання 0. Створіть порожній файл з назвою ```text0.txt```. Заповніть його текстом наступного змісту:\n",
    "\n",
    "```Тарас Шевченко - найкрутіший український письменник!```\n",
    "\n",
    "Переконайтеся, що файл був створений. Відкрийте його. Перегляньте доданий текст."
   ]
  },
  {
   "cell_type": "code",
   "execution_count": null,
   "metadata": {},
   "outputs": [],
   "source": []
  },
  {
   "cell_type": "markdown",
   "metadata": {},
   "source": [
    "Завдання 1: Виведіть повідомлення, що міститься у файлі з назвою ```text1.txt```"
   ]
  },
  {
   "cell_type": "code",
   "execution_count": null,
   "metadata": {},
   "outputs": [],
   "source": []
  },
  {
   "cell_type": "markdown",
   "metadata": {},
   "source": [
    "Завдання 2. До файлу ```text1.txt``` додайте наступні рядки:\n",
    "\n",
    "```Але я постійно працюю над собою```\n",
    "\n",
    "```і незабаром буду вчитися краще!```\n",
    "\n",
    "Переглянье зміст файлу ```text1.txt```. Переконайтеся, що відповідні рядки були додані"
   ]
  },
  {
   "cell_type": "code",
   "execution_count": null,
   "metadata": {},
   "outputs": [],
   "source": []
  },
  {
   "cell_type": "code",
   "execution_count": null,
   "metadata": {},
   "outputs": [],
   "source": []
  },
  {
   "cell_type": "markdown",
   "metadata": {},
   "source": [
    "Завдання 2. З'ясуйте, чи є серед характеристик робіт учня, які містяться у файлі  ```text2.txt```, значення \"відмінно\""
   ]
  },
  {
   "cell_type": "code",
   "execution_count": null,
   "metadata": {},
   "outputs": [],
   "source": []
  }
 ],
 "metadata": {
  "kernelspec": {
   "display_name": "functions8",
   "language": "python",
   "name": "python3"
  },
  "language_info": {
   "codemirror_mode": {
    "name": "ipython",
    "version": 3
   },
   "file_extension": ".py",
   "mimetype": "text/x-python",
   "name": "python",
   "nbconvert_exporter": "python",
   "pygments_lexer": "ipython3",
   "version": "3.12.1"
  },
  "orig_nbformat": 4
 },
 "nbformat": 4,
 "nbformat_minor": 2
}
